{
 "cells": [
  {
   "cell_type": "markdown",
   "metadata": {},
   "source": [
    "##### Simule el primer sistema cuántico descrito en la sección 4.1."
   ]
  },
  {
   "cell_type": "markdown",
   "metadata": {},
   "source": [
    "1. El sistema debe calcular la probabilidad de encontrarlo en una posición en particular.\n",
    "\n",
    "Ejemplo caso de prueba para la simulacion 1 y 2\n",
    "\n",
    "\n",
    "Número de posiciones: 3\n",
    "\n",
    "Ingrese las amplitudes complejas para las 3 posiciones (Ejemplo de entrada: 1+0j).\n",
    "\n",
    "Amplitud para la posición 0: 1+0j\n",
    "\n",
    "Amplitud para la posición 1: 0+0j\n",
    "\n",
    "Amplitud para la posición 2: 0+1j\n",
    "\n",
    "Posición para calcular la probabilidad (0 a 2): 0\n",
    "\n",
    "Probabilidad de encontrar la partícula en la posición 0: 1.000000 \n",
    "\n",
    "¿Desea calcular la probabilidad de transición a otro estado? (s/n): s\n",
    "\n",
    "Ingrese las amplitudes complejas para el nuevo estado de 3 posiciones (Ejemplo de entrada: 1+0j).\n",
    "\n",
    "Amplitud para la posición 0: 0.5 + 0.5j\n",
    "\n",
    "Amplitud para la posición 1: 0+0j\n",
    "\n",
    "Amplitud para la posición 2: 0.5 + 0.5j\n",
    "\n",
    "Probabilidad de transición al nuevo estado: 1.000000"
   ]
  },
  {
   "cell_type": "code",
   "execution_count": 1,
   "metadata": {},
   "outputs": [
    {
     "name": "stdout",
     "output_type": "stream",
     "text": [
      "Ingrese las amplitudes complejas para las 3 posiciones (Ejemplo de entrada: 1+0j).\n"
     ]
    },
    {
     "ename": "TypeError",
     "evalue": "SistemaCuantico() takes no arguments",
     "output_type": "error",
     "traceback": [
      "\u001b[1;31m---------------------------------------------------------------------------\u001b[0m",
      "\u001b[1;31mTypeError\u001b[0m                                 Traceback (most recent call last)",
      "Cell \u001b[1;32mIn[1], line 49\u001b[0m\n\u001b[0;32m     47\u001b[0m \u001b[38;5;66;03m# Ejecutar el sistema\u001b[39;00m\n\u001b[0;32m     48\u001b[0m numPosiciones, amplitudes \u001b[38;5;241m=\u001b[39m datos()\n\u001b[1;32m---> 49\u001b[0m sistema \u001b[38;5;241m=\u001b[39m \u001b[43mSistemaCuantico\u001b[49m\u001b[43m(\u001b[49m\u001b[43mnumPosiciones\u001b[49m\u001b[43m)\u001b[49m\n\u001b[0;32m     50\u001b[0m sistema\u001b[38;5;241m.\u001b[39masignarEstado(amplitudes)\n\u001b[0;32m     52\u001b[0m \u001b[38;5;66;03m# Probabilidad de encontrar la partícula en una posición\u001b[39;00m\n",
      "\u001b[1;31mTypeError\u001b[0m: SistemaCuantico() takes no arguments"
     ]
    }
   ],
   "source": [
    "import numpy as np\n",
    "\n",
    "class SistemaCuantico:\n",
    "    def _init_(self, numPosiciones):\n",
    "        self.numPosiciones = numPosiciones\n",
    "        self.estado = np.zeros(numPosiciones, dtype=complex)\n",
    "\n",
    "    def asignarEstado(self, amplitudes): \n",
    "        if len(amplitudes) != self.numPosiciones:\n",
    "            print(\"La longitud del vector de estado debe coincidir con el número de posiciones.\")\n",
    "        else:\n",
    "            self.estado = np.array(amplitudes, dtype=complex)\n",
    "    \n",
    "    def probabilidad(self, posicion):\n",
    "        if posicion < 0 or posicion >= self.numPosiciones:\n",
    "            print(\"La posición está fuera de rango.\")\n",
    "            return None\n",
    "        else:\n",
    "            amplitud = self.estado[posicion]\n",
    "            return np.abs(amplitud)**2\n",
    "\n",
    "    def probabilidadTransicion(self, nuevoEstado):\n",
    "        if len(nuevoEstado) != self.numPosiciones:\n",
    "            print(\"La longitud del nuevo vector de estado debe coincidir con el número de posiciones.\")\n",
    "            return None\n",
    "        else:\n",
    "            superposicion = np.dot(np.conjugate(self.estado), nuevoEstado)\n",
    "            return np.abs(superposicion)**2\n",
    "\n",
    "def datos():\n",
    "    numPosiciones = int(input(\"Número de posiciones: \"))\n",
    "    amplitudes = []\n",
    "    print(f\"Ingrese las amplitudes complejas para las {numPosiciones} posiciones (Ejemplo de entrada: 1+0j).\")\n",
    "    for i in range(numPosiciones):\n",
    "        amplitud = complex(input(f\"Amplitud para la posición {i}: \"))\n",
    "        amplitudes.append(amplitud)\n",
    "    return numPosiciones, amplitudes\n",
    "\n",
    "def nuevoEstado(numPosiciones):\n",
    "    nuevoEstado = []\n",
    "    print(f\"Ingrese las amplitudes complejas para el nuevo estado de {numPosiciones} posiciones (Ejemplo de entrada: 1+0j).\")\n",
    "    for i in range(numPosiciones):\n",
    "        amplitud = complex(input(f\"Amplitud para la posición {i}: \"))\n",
    "        nuevoEstado.append(amplitud)\n",
    "    return nuevoEstado\n",
    "\n",
    "# Ejecutar el sistema\n",
    "numPosiciones, amplitudes = datos()\n",
    "sistema = SistemaCuantico(numPosiciones)\n",
    "sistema.asignarEstado(amplitudes)\n",
    "\n",
    "# Probabilidad de encontrar la partícula en una posición\n",
    "posicion = int(input(f\"Posición para calcular la probabilidad (0 a {numPosiciones - 1}): \"))\n",
    "probabilidad = sistema.probabilidad(posicion)\n",
    "if probabilidad is not None:\n",
    "    print(f\"Probabilidad de encontrar la partícula en la posición {posicion}: {probabilidad:.6f} \\n\")\n",
    "\n",
    "# Calcular la probabilidad de transición\n",
    "calcularTransicion = input(\"¿Calcular la probabilidad de transición a otro estado? (s/n): \").lower()\n",
    "if calcularTransicion == 's':\n",
    "    nuevoEstado = nuevoEstado(numPosiciones)\n",
    "    probabilidadTransicion = sistema.probabilidadTransicion(nuevoEstado)\n",
    "    if probabilidadTransicion is not None:\n",
    "        print(f\"Probabilidad de transición al nuevo estado: {probabilidadTransicion:.6f}\")"
   ]
  },
  {
   "cell_type": "markdown",
   "metadata": {},
   "source": [
    "2. El sistema si se le da otro vector Ket debe buscar la probabilidad de transitar del primer vector al segundo."
   ]
  },
  {
   "cell_type": "code",
   "execution_count": 3,
   "metadata": {},
   "outputs": [
    {
     "name": "stdout",
     "output_type": "stream",
     "text": [
      "Probabilidad de colapso al estado |←>: 0.50\n",
      "Probabilidad de colapso al estado |→>: 0.50\n"
     ]
    },
    {
     "data": {
      "image/png": "[encoded data removed]",
      "text/plain": [
       "<Figure size 640x480 with 1 Axes>"
      ]
     },
     "metadata": {},
     "output_type": "display_data"
    }
   ],
   "source": [
    "import numpy as np\n",
    "\n",
    "up = np.array([[1], [0]])  # |up>\n",
    "izq = (1/np.sqrt(2)) * np.array([[1], [1]])  # |izquierda>\n",
    "der = (1/np.sqrt(2)) * np.array([[1], [-1]])  # |derecha>\n",
    "\n",
    "# Probabilidad de colapso\n",
    "def probabilidadColapso(estadoFin, estadoIni):\n",
    "    superposicion = np.vdot(estadoFin, estadoIni)\n",
    "    return np.abs(superposicion)**2\n",
    "\n",
    "# Calculo probabilidades\n",
    "PIzq= probabilidadColapso(izq, up)\n",
    "PDer = probabilidadColapso(der, up)\n",
    "\n",
    "print(f\"Probabilidad de colapso al estado |←>: {PIzq:.2f}\")\n",
    "print(f\"Probabilidad de colapso al estado |→>: {PDer:.2f}\")\n",
    "import numpy as np\n",
    "import matplotlib.pyplot as plt\n",
    "#4.3.2\n",
    "up = np.array([[1], [0]])  # |up>\n",
    "izq = (1/np.sqrt(2)) * np.array([[1], [1]])  # |izquierda>\n",
    "der = (1/np.sqrt(2)) * np.array([[1], [-1]])  # |derecha>\n",
    "\n",
    "# Valores propios correspondientes a los estados |right> y |left>\n",
    "eigenvalues = [0.5, -0.5]  # hbar/2 y -hbar/2\n",
    "probabilities = [probabilidadColapso(der, up), probabilidadColapso(izq, up)]  # Probabilidad de colapso a |right> y |left>\n",
    "\n",
    "plt.bar(eigenvalues, probabilities, color=['blue', 'orange'], width=0.1)\n",
    "plt.xlabel('Valores propios (h/2)')\n",
    "plt.ylabel('Probabilidad')\n",
    "plt.title('Distribución de probabilidad de los valores propios')\n",
    "plt.xticks(eigenvalues, [r'$\\frac{h}{2}$', r'$-\\frac{h}{2}$'])\n",
    "plt.show()"
   ]
  },
  {
   "cell_type": "markdown",
   "metadata": {},
   "source": [
    "##### Complete los retos de programación del capítulo 4."
   ]
  },
  {
   "cell_type": "markdown",
   "metadata": {},
   "source": [
    "Para el desarrollo del taller usaremos la libreria numpy\n",
    "\n",
    "1. Amplitud de transición. El sistema puede recibir dos vectores y calcular la probabilidad de transitar de el uno al otro después de hacer la observación"
   ]
  },
  {
   "cell_type": "code",
   "execution_count": 4,
   "metadata": {},
   "outputs": [
    {
     "name": "stdout",
     "output_type": "stream",
     "text": [
      "la probabilidad de transicion es:0.0\n"
     ]
    }
   ],
   "source": [
    "import numpy as np\n",
    "\n",
    "#leemos los dos vectores\n",
    "v1 = input(\"Introduce los elementos del vector uno (parte real y parte imaginaria separadas por coma, cada componente del vector separado por espacios\")\n",
    "elementosV1 = v1.split() \n",
    "vector1 = np.array([complex(float(e.split(',')[0]), float(e.split(',')[1])) for e in elementosV1])\n",
    "v2 = input(\"Introduce los elementos del vector dos (parte real y parte imaginaria separadas por coma, cada componente del vector separado por espacios\")\n",
    "elementosV2 = v1.split()\n",
    "vector2 = np.array([complex(float(e.split(',')[0]), float(e.split(',')[1])) for e in elementosV2])\n",
    "#verificamos que los vectores esten normalizados\n",
    "normaV1 = np.linalg.norm(vector1)\n",
    "if(normaV1 != 1):\n",
    "    vector1 = normaV1 * vector1\n",
    "normaV2 = np.linalg.norm(vector2)\n",
    "if(normaV2 != 1):\n",
    "    vector2 = normaV2 * vector2\n",
    "#realizamos el producto interno entre los 2 vectores\n",
    "product = np.vdot(vector1,vector2)\n",
    "probabilidad = abs(product)**2\n",
    "print(\"la probabilidad de transicion es:\" + str(probabilidad))"
   ]
  },
  {
   "cell_type": "markdown",
   "metadata": {},
   "source": [
    "2.Ahora con una matriz que describa un observable y un vector ket, el sistema revisa que la matriz sea hermitiana, y si lo es, calcula la media y la varianza del observable en el estado dado."
   ]
  },
  {
   "cell_type": "code",
   "execution_count": 5,
   "metadata": {},
   "outputs": [
    {
     "name": "stdout",
     "output_type": "stream",
     "text": [
      "Introduce los elementos de la matriz 0x0, fila por fila, con cada elemento en el formato (parte real,parte imaginaria)\n",
      "la media es:[]\n",
      "la varianza es:0.0\n"
     ]
    }
   ],
   "source": [
    "import numpy as np\n",
    "#lectura del vector y la matriz\n",
    "v = input(\"Introduce los elementos del vector (parte real y parte imaginaria separadas por coma, , cada componente del vector separado por espacios\")\n",
    "elementosV = v.split() \n",
    "vector = np.array([complex(float(e.split(',')[0]), float(e.split(',')[1])) for e in elementosV])\n",
    "n = len(vector)\n",
    "print(f\"Introduce los elementos de la matriz {n}x{n}, fila por fila, con cada elemento en el formato (parte real,parte imaginaria)\")\n",
    "matriz = []\n",
    "for i in range(n):\n",
    "    fila = input(f\"Fila {i+1}: \").split()\n",
    "    fila_complex = [complex(float(e.split(',')[0]), float(e.split(',')[1])) for e in fila]\n",
    "    matriz.append(fila_complex)\n",
    "matriz = np.array(matriz)\n",
    "#normalizamos el vector\n",
    "normaV1 = np.linalg.norm(vector)\n",
    "if(normaV1 != 1):\n",
    "    vector = normaV1 * vector\n",
    "#verificar que la matriz sea hermitiana\n",
    "is_hermitian = np.allclose(matriz, matriz.conj().T)\n",
    "if(is_hermitian):\n",
    "    #calculo de la media\n",
    "    media = np.dot(vector,np.dot(matriz,vector))\n",
    "    print(\"la media es:\"+ str(media))\n",
    "    #calculo de la varianza\n",
    "    varianza = matriz - (media*np.identity(n))\n",
    "    varianza = varianza * varianza\n",
    "    total = np.dot(vector,np.dot(varianza,vector))\n",
    "    print(\"la varianza es:\" + str(total))\n",
    "else:\n",
    "    print(\"la matriz no es hermitiana\")"
   ]
  },
  {
   "cell_type": "markdown",
   "metadata": {},
   "source": [
    "3. El sistema calcula los valores propios del observable y la probabilidad de que el sistema transite a alguno de los vectores propios después de la observación."
   ]
  },
  {
   "cell_type": "code",
   "execution_count": 6,
   "metadata": {},
   "outputs": [
    {
     "name": "stdout",
     "output_type": "stream",
     "text": [
      "Introduce los elementos de la matriz 0x0, fila por fila, con cada elemento en el formato (parte real,parte imaginaria)\n"
     ]
    },
    {
     "ename": "LinAlgError",
     "evalue": "1-dimensional array given. Array must be at least two-dimensional",
     "output_type": "error",
     "traceback": [
      "\u001b[1;31m---------------------------------------------------------------------------\u001b[0m",
      "\u001b[1;31mLinAlgError\u001b[0m                               Traceback (most recent call last)",
      "Cell \u001b[1;32mIn[6], line 19\u001b[0m\n\u001b[0;32m     16\u001b[0m is_hermitian \u001b[38;5;241m=\u001b[39m np\u001b[38;5;241m.\u001b[39mallclose(matriz, matriz\u001b[38;5;241m.\u001b[39mconj()\u001b[38;5;241m.\u001b[39mT)\n\u001b[0;32m     17\u001b[0m \u001b[38;5;28;01mif\u001b[39;00m(is_hermitian):\n\u001b[0;32m     18\u001b[0m     \u001b[38;5;66;03m#calculamos los valores y vectore propios\u001b[39;00m\n\u001b[1;32m---> 19\u001b[0m     eigenvalues, eigenvectors \u001b[38;5;241m=\u001b[39m \u001b[43mnp\u001b[49m\u001b[38;5;241;43m.\u001b[39;49m\u001b[43mlinalg\u001b[49m\u001b[38;5;241;43m.\u001b[39;49m\u001b[43meig\u001b[49m\u001b[43m(\u001b[49m\u001b[43mmatriz\u001b[49m\u001b[43m)\u001b[49m\n\u001b[0;32m     20\u001b[0m     \u001b[38;5;28mprint\u001b[39m(\u001b[38;5;124m\"\u001b[39m\u001b[38;5;124mvectores propios del observable:\u001b[39m\u001b[38;5;124m\"\u001b[39m \u001b[38;5;241m+\u001b[39m \u001b[38;5;28mstr\u001b[39m(eigenvectors))\n\u001b[0;32m     21\u001b[0m     \u001b[38;5;66;03m#calculo de la probabilidad de que el sistema transite a alguno de los vectores\u001b[39;00m\n",
      "File \u001b[1;32mf:\\CNYT\\.venv\\Lib\\site-packages\\numpy\\linalg\\_linalg.py:1480\u001b[0m, in \u001b[0;36meig\u001b[1;34m(a)\u001b[0m\n\u001b[0;32m   1347\u001b[0m \u001b[38;5;250m\u001b[39m\u001b[38;5;124;03m\"\"\"\u001b[39;00m\n\u001b[0;32m   1348\u001b[0m \u001b[38;5;124;03mCompute the eigenvalues and right eigenvectors of a square array.\u001b[39;00m\n\u001b[0;32m   1349\u001b[0m \n\u001b[1;32m   (...)\u001b[0m\n\u001b[0;32m   1477\u001b[0m \n\u001b[0;32m   1478\u001b[0m \u001b[38;5;124;03m\"\"\"\u001b[39;00m\n\u001b[0;32m   1479\u001b[0m a, wrap \u001b[38;5;241m=\u001b[39m _makearray(a)\n\u001b[1;32m-> 1480\u001b[0m \u001b[43m_assert_stacked_2d\u001b[49m\u001b[43m(\u001b[49m\u001b[43ma\u001b[49m\u001b[43m)\u001b[49m\n\u001b[0;32m   1481\u001b[0m _assert_stacked_square(a)\n\u001b[0;32m   1482\u001b[0m _assert_finite(a)\n",
      "File \u001b[1;32mf:\\CNYT\\.venv\\Lib\\site-packages\\numpy\\linalg\\_linalg.py:195\u001b[0m, in \u001b[0;36m_assert_stacked_2d\u001b[1;34m(*arrays)\u001b[0m\n\u001b[0;32m    193\u001b[0m \u001b[38;5;28;01mfor\u001b[39;00m a \u001b[38;5;129;01min\u001b[39;00m arrays:\n\u001b[0;32m    194\u001b[0m     \u001b[38;5;28;01mif\u001b[39;00m a\u001b[38;5;241m.\u001b[39mndim \u001b[38;5;241m<\u001b[39m \u001b[38;5;241m2\u001b[39m:\n\u001b[1;32m--> 195\u001b[0m         \u001b[38;5;28;01mraise\u001b[39;00m LinAlgError(\u001b[38;5;124m'\u001b[39m\u001b[38;5;132;01m%d\u001b[39;00m\u001b[38;5;124m-dimensional array given. Array must be \u001b[39m\u001b[38;5;124m'\u001b[39m\n\u001b[0;32m    196\u001b[0m                 \u001b[38;5;124m'\u001b[39m\u001b[38;5;124mat least two-dimensional\u001b[39m\u001b[38;5;124m'\u001b[39m \u001b[38;5;241m%\u001b[39m a\u001b[38;5;241m.\u001b[39mndim)\n",
      "\u001b[1;31mLinAlgError\u001b[0m: 1-dimensional array given. Array must be at least two-dimensional"
     ]
    }
   ],
   "source": [
    "import numpy as np\n",
    "from sys import stdin\n",
    "#lectura del vector y la matriz\n",
    "v = input(\"Introduce los elementos del vector (parte real y parte imaginaria separadas por coma, , cada componente del vector separado por espacios\")\n",
    "elementosV = v.split() \n",
    "vector = np.array([complex(float(e.split(',')[0]), float(e.split(',')[1])) for e in elementosV])\n",
    "n = len(vector)\n",
    "print(f\"Introduce los elementos de la matriz {n}x{n}, fila por fila, con cada elemento en el formato (parte real,parte imaginaria)\")\n",
    "matriz = []\n",
    "for i in range(n):\n",
    "    fila = input(f\"Fila {i+1}: \").split()\n",
    "    fila_complex = [complex(float(e.split(',')[0]), float(e.split(',')[1])) for e in fila]\n",
    "    matriz.append(fila_complex)\n",
    "matriz = np.array(matriz)\n",
    "#verificar que la matriz sea hermitiana\n",
    "is_hermitian = np.allclose(matriz, matriz.conj().T)\n",
    "if(is_hermitian):\n",
    "    #calculamos los valores y vectore propios\n",
    "    eigenvalues, eigenvectors = np.linalg.eig(matriz)\n",
    "    print(\"vectores propios del observable:\" + str(eigenvectors))\n",
    "    #calculo de la probabilidad de que el sistema transite a alguno de los vectores\n",
    "    probabilidad_total = 0\n",
    "    for i in range(len(eigenvectors)):\n",
    "        #verificar que el vector esta normalizado\n",
    "        norma = np.linalg.norm(eigenvectors[i])\n",
    "        if(normaV1 != 1):\n",
    "            eigenvectors[i] = norma * eigenvectors[i]\n",
    "            #calculo de la probabilidad\n",
    "            probabilidad = pow(np.dot(eigenvectors[i],vector),2)\n",
    "            print(\"la probabilidad del vector\"+str(eigenvectors[i])+\"es:\"+str(probabilidad))\n",
    "            probabilidad_total += probabilidad\n",
    "    print(\"la suma de probabilidades es:\"+str(probabilidad_total))\n",
    "else:\n",
    "    print(\"la matriz no es hermitiana\")\n",
    "    "
   ]
  },
  {
   "cell_type": "markdown",
   "metadata": {},
   "source": [
    "4. Se considera la dinámica del sistema. Ahora con una serie de matrices Un el sistema calcula el estado final a partir de un estado inicial."
   ]
  },
  {
   "cell_type": "code",
   "execution_count": 30,
   "metadata": {},
   "outputs": [
    {
     "name": "stdout",
     "output_type": "stream",
     "text": [
      "Introduce los elementos de la matriz 2x2, fila por fila, con cada elemento en el formato (parte real,parte imaginaria)\n",
      "Introduce los elementos de la matriz 2x2, fila por fila, con cada elemento en el formato (parte real,parte imaginaria)\n",
      "el estado final es\n",
      "[2.+0.j 0.+2.j]\n"
     ]
    }
   ],
   "source": [
    "import numpy as np\n",
    "from sys import stdin\n",
    "#lectura del vector y la matriz\n",
    "v = input(\"Introduce los elementos del vector (parte real y parte imaginaria separadas por coma, , cada componente del vector separado por espacios\")\n",
    "elementosV = v.split() \n",
    "vector = np.array([complex(float(e.split(',')[0]), float(e.split(',')[1])) for e in elementosV])\n",
    "#lectura de n matrices unitarias dadas por el usuario\n",
    "n = int(input(\"digite la cantidad de matrices unitarias\"))\n",
    "matricesUnitarias = []\n",
    "m = len(vector)\n",
    "# lectura de todas las matrices unitarias\n",
    "for i in range(n):\n",
    "    print(f\"Introduce los elementos de la matriz {m}x{m}, fila por fila, con cada elemento en el formato (parte real,parte imaginaria)\")\n",
    "    matriz = []\n",
    "    for j in range(m):\n",
    "        fila = input(f\"Fila {j+1}: \").split()\n",
    "        fila_complex = [complex(float(e.split(',')[0]), float(e.split(',')[1])) for e in fila]\n",
    "        matriz.append(fila_complex)\n",
    "    matriz = np.array(matriz)\n",
    "    matricesUnitarias.append(matriz)\n",
    "estado_final = vector\n",
    "#calculo del estado final\n",
    "for U in matricesUnitarias:\n",
    "    estado_final = np.dot(U,estado_final)\n",
    "print(\"el estado final es\")\n",
    "print(estado_final)"
   ]
  },
  {
   "cell_type": "markdown",
   "metadata": {},
   "source": [
    "##### Realice los siguientes problemas e incluyalos como ejemplos"
   ]
  },
  {
   "cell_type": "markdown",
   "metadata": {},
   "source": [
    "4.3.1\n"
   ]
  },
  {
   "cell_type": "code",
   "execution_count": 2,
   "metadata": {},
   "outputs": [
    {
     "name": "stdout",
     "output_type": "stream",
     "text": [
      "Probabilidad de colapso al estado |←>: 0.50\n",
      "Probabilidad de colapso al estado |→>: 0.50\n"
     ]
    }
   ],
   "source": [
    "import numpy as np\n",
    "up = np.array([[1], [0]])  # |up>\n",
    "izq = (1/np.sqrt(2)) * np.array([[1], [1]])  # |izquierda>\n",
    "der = (1/np.sqrt(2)) * np.array([[1], [-1]])  # |derecha>\n",
    "\n",
    "# Probabilidad de colapso\n",
    "def probabilidadColapso(estadoFin, estadoIni):\n",
    "    superposicion = np.vdot(estadoFin, estadoIni)\n",
    "    return np.abs(superposicion)**2\n",
    "\n",
    "# Calculo probabilidades\n",
    "PIzq= probabilidadColapso(izq, up)\n",
    "PDer = probabilidadColapso(der, up)\n",
    "\n",
    "print(f\"Probabilidad de colapso al estado |←>: {PIzq:.2f}\")\n",
    "print(f\"Probabilidad de colapso al estado |→>: {PDer:.2f}\")"
   ]
  },
  {
   "cell_type": "markdown",
   "metadata": {},
   "source": [
    "4.3.2\n"
   ]
  },
  {
   "cell_type": "code",
   "execution_count": 3,
   "metadata": {},
   "outputs": [
    {
     "data": {
      "image/png": "[encoded data removed]",
      "text/plain": [
       "<Figure size 640x480 with 1 Axes>"
      ]
     },
     "metadata": {},
     "output_type": "display_data"
    }
   ],
   "source": [
    "import numpy as np\n",
    "import matplotlib.pyplot as plt\n",
    "up = np.array([[1], [0]])  # |up>\n",
    "izq = (1/np.sqrt(2)) * np.array([[1], [1]])  # |izquierda>\n",
    "der = (1/np.sqrt(2)) * np.array([[1], [-1]])  # |derecha>\n",
    "\n",
    "# Valores propios correspondientes a los estados |right> y |left>\n",
    "eigenvalues = [0.5, -0.5]  # hbar/2 y -hbar/2\n",
    "probabilities = [probabilidadColapso(der, up), probabilidadColapso(izq, up)]  # Probabilidad de colapso a |right> y |left>\n",
    "\n",
    "plt.bar(eigenvalues, probabilities, color=['blue', 'orange'], width=0.1)\n",
    "plt.xlabel('Valores propios (h/2)')\n",
    "plt.ylabel('Probabilidad')\n",
    "plt.title('Distribución de probabilidad de los valores propios')\n",
    "plt.xticks(eigenvalues, [r'$\\frac{h}{2}$', r'$-\\frac{h}{2}$'])\n",
    "plt.show()"
   ]
  },
  {
   "cell_type": "markdown",
   "metadata": {},
   "source": [
    "4.4.1"
   ]
  },
  {
   "cell_type": "code",
   "execution_count": null,
   "metadata": {},
   "outputs": [],
   "source": [
    "import numpy as np\n",
    "# Matrices u1 y u2\n",
    "u1 = np.array([[0, 1],\n",
    "               [1, 0]])\n",
    "u2 = np.array([[np.sqrt(2)/2, np.sqrt(2)/2],\n",
    "               [np.sqrt(2)/2, -np.sqrt(2)/2]])\n",
    "\n",
    "def esUnitaria(U):\n",
    "    identidad = np.eye(U.shape[0])\n",
    "    daga = np.conjugate(U.T)\n",
    "    return np.allclose(U @ daga, identidad)\n",
    "\n",
    "# Comprobar si U1 y U2 son matrices unitarias\n",
    "u1Unitaria = esUnitaria(u1)\n",
    "u2Unitaria = esUnitaria(u2)\n",
    "# Comprobar si el producto entre u1 y u2 es unitario\n",
    "u1u2Producto = np.dot(u1, u2)\n",
    "productoUnitario = esUnitaria(u1u2Producto)\n",
    "\n",
    "print(\"U1 es unitaria:\", u1Unitaria)\n",
    "print(\"U2 es unitaria:\", u2Unitaria)\n",
    "print(\"El producto U1*U2 es unitario:\", productoUnitario)"
   ]
  },
  {
   "cell_type": "markdown",
   "metadata": {},
   "source": [
    "4.4.2"
   ]
  },
  {
   "cell_type": "code",
   "execution_count": null,
   "metadata": {},
   "outputs": [],
   "source": [
    "estadoIni = np.array([1, 0, 0, 0], dtype=complex)\n",
    "U = np.array([[0, 1/np.sqrt(2), 1/np.sqrt(2), 0],\n",
    "              [1j/np.sqrt(2), 0, 0, 1/np.sqrt(2)],\n",
    "              [1/np.sqrt(2), 0, 0, 1j/np.sqrt(2)],\n",
    "              [0, 1/np.sqrt(2), -1/np.sqrt(2), 0]], dtype=complex)\n",
    "\n",
    "# Tres clicks\n",
    "Click1 = np.dot(U, estadoIni)\n",
    "Click2= np.dot(U, Click1)\n",
    "Click3 = np.dot(U, Click2)\n",
    "\n",
    "ProbabilidadPunto3 = np.abs(Click3[2])**2\n",
    "\n",
    "print(f\"Estado después de 3 clicks: {Click3:}\\n\")\n",
    "print(f\"Probabilidad de encontrar la partícula en el punto 3: {ProbabilidadPunto3}\")"
   ]
  }
 ],
 "metadata": {
  "kernelspec": {
   "display_name": ".venv",
   "language": "python",
   "name": "python3"
  },
  "language_info": {
   "codemirror_mode": {
    "name": "ipython",
    "version": 3
   },
   "file_extension": ".py",
   "mimetype": "text/x-python",
   "name": "python",
   "nbconvert_exporter": "python",
   "pygments_lexer": "ipython3",
   "version": "3.12.0"
  }
 },
 "nbformat": 4,
 "nbformat_minor": 2
}
